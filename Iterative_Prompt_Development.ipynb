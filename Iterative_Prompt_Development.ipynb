{
  "nbformat": 4,
  "nbformat_minor": 0,
  "metadata": {
    "colab": {
      "provenance": [],
      "authorship_tag": "ABX9TyPvhwo8SSwc/YoW9fpAEswf",
      "include_colab_link": true
    },
    "kernelspec": {
      "name": "python3",
      "display_name": "Python 3"
    },
    "language_info": {
      "name": "python"
    }
  },
  "cells": [
    {
      "cell_type": "markdown",
      "metadata": {
        "id": "view-in-github",
        "colab_type": "text"
      },
      "source": [
        "<a href=\"https://colab.research.google.com/github/mtpradoc/ChatGPT/blob/main/Iterative_Prompt_Development.ipynb\" target=\"_parent\"><img src=\"https://colab.research.google.com/assets/colab-badge.svg\" alt=\"Open In Colab\"/></a>"
      ]
    },
    {
      "cell_type": "markdown",
      "source": [
        "#Iterative Prompt Developement\n"
      ],
      "metadata": {
        "id": "i_uvN9kGedfA"
      }
    },
    {
      "cell_type": "markdown",
      "source": [
        "\n",
        "You'll  iteratively analyze and refine your prompts to generate marketing copy form a product fact sheet."
      ],
      "metadata": {
        "id": "BtGdnKDWevUv"
      }
    },
    {
      "cell_type": "markdown",
      "source": [
        "##Setup"
      ],
      "metadata": {
        "id": "vT7DMC3wexk4"
      }
    },
    {
      "cell_type": "code",
      "source": [
        "!pip install openai"
      ],
      "metadata": {
        "colab": {
          "base_uri": "https://localhost:8080/"
        },
        "id": "3dCBfJ6WfI8z",
        "outputId": "773f12ae-d744-4d1d-8b0b-a8142b0eb81f"
      },
      "execution_count": 2,
      "outputs": [
        {
          "output_type": "stream",
          "name": "stdout",
          "text": [
            "Looking in indexes: https://pypi.org/simple, https://us-python.pkg.dev/colab-wheels/public/simple/\n",
            "Collecting openai\n",
            "  Downloading openai-0.27.6-py3-none-any.whl (71 kB)\n",
            "\u001b[2K     \u001b[90m━━━━━━━━━━━━━━━━━━━━━━━━━━━━━━━━━━━━━━━━\u001b[0m \u001b[32m71.9/71.9 kB\u001b[0m \u001b[31m2.0 MB/s\u001b[0m eta \u001b[36m0:00:00\u001b[0m\n",
            "\u001b[?25hRequirement already satisfied: requests>=2.20 in /usr/local/lib/python3.10/dist-packages (from openai) (2.27.1)\n",
            "Requirement already satisfied: tqdm in /usr/local/lib/python3.10/dist-packages (from openai) (4.65.0)\n",
            "Collecting aiohttp (from openai)\n",
            "  Downloading aiohttp-3.8.4-cp310-cp310-manylinux_2_17_x86_64.manylinux2014_x86_64.whl (1.0 MB)\n",
            "\u001b[2K     \u001b[90m━━━━━━━━━━━━━━━━━━━━━━━━━━━━━━━━━━━━━━━━\u001b[0m \u001b[32m1.0/1.0 MB\u001b[0m \u001b[31m14.7 MB/s\u001b[0m eta \u001b[36m0:00:00\u001b[0m\n",
            "\u001b[?25hRequirement already satisfied: urllib3<1.27,>=1.21.1 in /usr/local/lib/python3.10/dist-packages (from requests>=2.20->openai) (1.26.15)\n",
            "Requirement already satisfied: certifi>=2017.4.17 in /usr/local/lib/python3.10/dist-packages (from requests>=2.20->openai) (2022.12.7)\n",
            "Requirement already satisfied: charset-normalizer~=2.0.0 in /usr/local/lib/python3.10/dist-packages (from requests>=2.20->openai) (2.0.12)\n",
            "Requirement already satisfied: idna<4,>=2.5 in /usr/local/lib/python3.10/dist-packages (from requests>=2.20->openai) (3.4)\n",
            "Requirement already satisfied: attrs>=17.3.0 in /usr/local/lib/python3.10/dist-packages (from aiohttp->openai) (23.1.0)\n",
            "Collecting multidict<7.0,>=4.5 (from aiohttp->openai)\n",
            "  Downloading multidict-6.0.4-cp310-cp310-manylinux_2_17_x86_64.manylinux2014_x86_64.whl (114 kB)\n",
            "\u001b[2K     \u001b[90m━━━━━━━━━━━━━━━━━━━━━━━━━━━━━━━━━━━━━━━\u001b[0m \u001b[32m114.5/114.5 kB\u001b[0m \u001b[31m4.8 MB/s\u001b[0m eta \u001b[36m0:00:00\u001b[0m\n",
            "\u001b[?25hCollecting async-timeout<5.0,>=4.0.0a3 (from aiohttp->openai)\n",
            "  Downloading async_timeout-4.0.2-py3-none-any.whl (5.8 kB)\n",
            "Collecting yarl<2.0,>=1.0 (from aiohttp->openai)\n",
            "  Downloading yarl-1.9.2-cp310-cp310-manylinux_2_17_x86_64.manylinux2014_x86_64.whl (268 kB)\n",
            "\u001b[2K     \u001b[90m━━━━━━━━━━━━━━━━━━━━━━━━━━━━━━━━━━━━━━━\u001b[0m \u001b[32m268.8/268.8 kB\u001b[0m \u001b[31m8.8 MB/s\u001b[0m eta \u001b[36m0:00:00\u001b[0m\n",
            "\u001b[?25hCollecting frozenlist>=1.1.1 (from aiohttp->openai)\n",
            "  Downloading frozenlist-1.3.3-cp310-cp310-manylinux_2_5_x86_64.manylinux1_x86_64.manylinux_2_17_x86_64.manylinux2014_x86_64.whl (149 kB)\n",
            "\u001b[2K     \u001b[90m━━━━━━━━━━━━━━━━━━━━━━━━━━━━━━━━━━━━━━━\u001b[0m \u001b[32m149.6/149.6 kB\u001b[0m \u001b[31m8.6 MB/s\u001b[0m eta \u001b[36m0:00:00\u001b[0m\n",
            "\u001b[?25hCollecting aiosignal>=1.1.2 (from aiohttp->openai)\n",
            "  Downloading aiosignal-1.3.1-py3-none-any.whl (7.6 kB)\n",
            "Installing collected packages: multidict, frozenlist, async-timeout, yarl, aiosignal, aiohttp, openai\n",
            "Successfully installed aiohttp-3.8.4 aiosignal-1.3.1 async-timeout-4.0.2 frozenlist-1.3.3 multidict-6.0.4 openai-0.27.6 yarl-1.9.2\n"
          ]
        }
      ]
    },
    {
      "cell_type": "code",
      "source": [
        "import openai\n",
        "import os\n",
        "\n",
        "openai.api_key = OPENAI_API_KEY"
      ],
      "metadata": {
        "id": "mYOMr3CLew8j"
      },
      "execution_count": 13,
      "outputs": []
    },
    {
      "cell_type": "code",
      "execution_count": 14,
      "metadata": {
        "id": "7450RAsjb8_J"
      },
      "outputs": [],
      "source": [
        "def get_completion(prompt, model=\"gpt-3.5-turbo\"):\n",
        "  messages = [{\"role\":\"user\", \"content\": prompt}]\n",
        "  response = openai.ChatCompletion.create(\n",
        "      model=model,\n",
        "      messages=messages,\n",
        "      temperature=0, # this is the degree of randomness of the model's output\n",
        "  )\n",
        "  return response.choices[0].message[\"content\"]"
      ]
    },
    {
      "cell_type": "markdown",
      "source": [
        "##Generate a marketing product description from a product fact sheet"
      ],
      "metadata": {
        "id": "r2uNRYoTf3Y4"
      }
    },
    {
      "cell_type": "code",
      "source": [
        "fact_sheet_chair = \"\"\"\n",
        "OVERVIEW\n",
        "- Part of a beautiful family of mid-century inspired office furniture,\n",
        "including filing cabinets, desks, bookcases, meeting tables, and more\n",
        "- Several options of shell color and base finishes.\n",
        "- Available with plastic back and front upholstery (SWC-100)\n",
        "or full upholstery (SWC-110) in 10 fabric and 6 leather options.\n",
        "- Base finish options are: stainless steel, matte black,\n",
        "gloss white, or chrome.\n",
        "- Chair is available with or without armrests.\n",
        "- Suitable for home or buisness settings.\n",
        "- Qualified for contract use.\n",
        "\n",
        "CONSTRUCTION\n",
        "- 5-wheel plastic coated aluminum base.\n",
        "- Pneumatic chair adjust for easy raise/lower action.\n",
        "\n",
        "DIMENSIONS\n",
        "- WIDTH 53 CM | 20.87\"\n",
        "- DEPTH 51 CM | 20.08\"\n",
        "- HEIGHT 80 CM | 31.50\"\n",
        "- SEAT HEIGHT 44 CM | 17.32\"\n",
        "- SEAT DEPTH 41 CM | 16.14\"\n",
        "\n",
        "OPTIONS\n",
        "- Soft or hard-floor caster options.\n",
        "- Two choices of seat foram densities:\n",
        "medium (1.8 lb/ft3) or high(2.8 lb/ft3)\n",
        "Armless or 8 position PU armrests\n",
        "\n",
        "MATERIALS\n",
        "SHELL BASE GLIDER\n",
        "- Cast Aluminum with modified nylon PA6/PA66 coating.\n",
        "- Shell thickness: 10 mm.\n",
        "SEAT\n",
        "- HD36 foam\n",
        "\n",
        "COUNTRY OF ORIGIN\n",
        "- Italy\n",
        "\"\"\""
      ],
      "metadata": {
        "id": "f9tCbRVqf-DI"
      },
      "execution_count": 15,
      "outputs": []
    },
    {
      "cell_type": "code",
      "source": [
        "prompt = f\"\"\"\n",
        "Your task is to help a marketing team create a\n",
        "description for retail website of a product based\n",
        "on a technical fact sheet.\n",
        "\n",
        "Write a product description based on the information\n",
        "provided in the technical specifications delimited by\n",
        "triple backticks.\n",
        "\n",
        "Technical specifications: ```{fact_sheet_chair}```\n",
        "\"\"\"\n",
        "response = get_completion(prompt)\n",
        "print(response)"
      ],
      "metadata": {
        "colab": {
          "base_uri": "https://localhost:8080/"
        },
        "id": "geqVPuEWhH2N",
        "outputId": "df367b5b-05a3-4ec4-d0e9-48ade73d14f9"
      },
      "execution_count": 16,
      "outputs": [
        {
          "output_type": "stream",
          "name": "stdout",
          "text": [
            "Introducing our stunning mid-century inspired office chair, perfect for both home and business settings. This chair is part of a beautiful family of office furniture, including filing cabinets, desks, bookcases, meeting tables, and more. With several options of shell color and base finishes, you can customize this chair to fit your unique style. \n",
            "\n",
            "Choose between plastic back and front upholstery or full upholstery in 10 fabric and 6 leather options. The base finish options are stainless steel, matte black, gloss white, or chrome. You can also choose to have armrests or not. \n",
            "\n",
            "Constructed with a 5-wheel plastic coated aluminum base and a pneumatic chair adjust for easy raise/lower action, this chair is both sturdy and comfortable. The dimensions of the chair are 53 cm in width, 51 cm in depth, and 80 cm in height, with a seat height of 44 cm and a seat depth of 41 cm. \n",
            "\n",
            "You can also choose between soft or hard-floor caster options and two choices of seat foam densities: medium (1.8 lb/ft3) or high (2.8 lb/ft3). The chair is available with armless or 8 position PU armrests. \n",
            "\n",
            "The materials used in this chair are of the highest quality. The shell base glider is made of cast aluminum with modified nylon PA6/PA66 coating, with a shell thickness of 10 mm. The seat is made of HD36 foam. \n",
            "\n",
            "This chair is made in Italy and is qualified for contract use. Upgrade your office space with our beautiful and functional mid-century inspired office chair.\n"
          ]
        }
      ]
    },
    {
      "cell_type": "markdown",
      "source": [
        "##Issue 1: The text is too long"
      ],
      "metadata": {
        "id": "qQ81haLHiyk4"
      }
    },
    {
      "cell_type": "markdown",
      "source": [
        "\n",
        "\n",
        "*   Limit the number of words/sentences/characters.\n"
      ],
      "metadata": {
        "id": "8cR_N5XojDhb"
      }
    },
    {
      "cell_type": "code",
      "source": [
        "prompt = f\"\"\"\n",
        "Your task is to help a marketing team create\n",
        "a description for a retail website of a product based\n",
        "on a technical fact sheet.\n",
        "\n",
        "Write a product description based on the information\n",
        "provided in the technical specifications delimited by\n",
        "triple backticks.\n",
        "\n",
        "Use at most 50 words.\n",
        "\n",
        "Technical specifications: ```{fact_sheet_chair}```\n",
        "\"\"\"\n",
        "response = get_completion(prompt)\n",
        "print(response)"
      ],
      "metadata": {
        "colab": {
          "base_uri": "https://localhost:8080/"
        },
        "id": "M5rGeL3Eid61",
        "outputId": "417aca52-accc-4f1d-bb63-eeb5050c81d2"
      },
      "execution_count": 17,
      "outputs": [
        {
          "output_type": "stream",
          "name": "stdout",
          "text": [
            "Introducing the mid-century inspired office chair, part of a beautiful furniture family. Available in various shell colors and base finishes, with plastic or full upholstery options in fabric or leather. Suitable for home or business settings, with a 5-wheel base and pneumatic chair adjust. Made in Italy.\n"
          ]
        }
      ]
    },
    {
      "cell_type": "code",
      "source": [
        "len(response)"
      ],
      "metadata": {
        "colab": {
          "base_uri": "https://localhost:8080/"
        },
        "id": "-nDXBgtEj2dC",
        "outputId": "2ecc19ee-de75-415c-b685-69c4ae9183ca"
      },
      "execution_count": 18,
      "outputs": [
        {
          "output_type": "execute_result",
          "data": {
            "text/plain": [
              "306"
            ]
          },
          "metadata": {},
          "execution_count": 18
        }
      ]
    },
    {
      "cell_type": "markdown",
      "source": [
        "##Issue 2. Text focuses on the wrong details"
      ],
      "metadata": {
        "id": "whohErMTkVKW"
      }
    },
    {
      "cell_type": "markdown",
      "source": [
        "\n",
        "\n",
        "*   Ask it to focus on the aspects that are relevant to the intended audience.\n",
        "\n"
      ],
      "metadata": {
        "id": "tYfipdMCkZtY"
      }
    },
    {
      "cell_type": "code",
      "source": [
        "prompt = f\"\"\"\n",
        "Your task is to help a marketing team create a\n",
        "description for a retail website of a product based\n",
        "on a technical fact sheet.\n",
        "\n",
        "Write a product description based on the information\n",
        "provided in the technical specifications delimited by\n",
        "triple backticks.\n",
        "\n",
        "The description is intented for furniture retailers,\n",
        "so should be technical in nature and focus on the\n",
        "materials the product is constructed from.\n",
        "\n",
        "Use at most 50 words.\n",
        "\n",
        "Technical specifications: ```{fact_sheet_chair}```\n",
        "\"\"\"\n",
        "response = get_completion(prompt)\n",
        "print(response)"
      ],
      "metadata": {
        "colab": {
          "base_uri": "https://localhost:8080/"
        },
        "id": "M5ELuV7GkUyk",
        "outputId": "4cb474c8-9a10-43e7-d351-cb8b03e1e4f1"
      },
      "execution_count": 19,
      "outputs": [
        {
          "output_type": "stream",
          "name": "stdout",
          "text": [
            "Introducing our mid-century inspired office chair, perfect for both home and business settings. With a range of shell colors and base finishes, including stainless steel and matte black, this chair is available with or without armrests and in 10 fabric and 6 leather options. Constructed with a 5-wheel plastic coated aluminum base and HD36 foam seat, this chair also features a pneumatic adjust for easy raise/lower action. Made in Italy and qualified for contract use.\n"
          ]
        }
      ]
    },
    {
      "cell_type": "code",
      "source": [
        "prompt = f\"\"\"\n",
        "Your task is to help a marketing team create a\n",
        "description for a retail website of a product based\n",
        "on a technical fact sheet.\n",
        "\n",
        "Write a product description based on the information\n",
        "provided in the technical specifications delimited by\n",
        "triple backticks.\n",
        "\n",
        "The description is intented for furniture retailers,\n",
        "so should be technical in nature and focus on the\n",
        "materials the product is constructed from.\n",
        "\n",
        "At the end of the description, include every 7-character\n",
        "Product ID in the technical specification.\n",
        "\n",
        "Use at most 50 words.\n",
        "\n",
        "Technical specifications: ```{fact_sheet_chair}```\n",
        "\"\"\"\n",
        "response = get_completion(prompt)\n",
        "print(response)"
      ],
      "metadata": {
        "colab": {
          "base_uri": "https://localhost:8080/"
        },
        "id": "4fpxZfQAj4tK",
        "outputId": "b047b0ce-1e03-4ed7-9b0a-bbc7cd6bd1be"
      },
      "execution_count": 20,
      "outputs": [
        {
          "output_type": "stream",
          "name": "stdout",
          "text": [
            "Introducing the mid-century inspired office chair, perfect for home or business settings. With a variety of shell colors and base finishes, and the option of plastic or full upholstery, this chair is both stylish and comfortable. The 5-wheel base is made of plastic coated aluminum, and the chair is adjustable for easy use. Available with or without armrests, and suitable for contract use. Product ID: SWC-100, SWC-110.\n"
          ]
        }
      ]
    },
    {
      "cell_type": "markdown",
      "source": [
        "##Issue 3. Description needs a table of dimensions"
      ],
      "metadata": {
        "id": "2WofFrhzlzj6"
      }
    },
    {
      "cell_type": "markdown",
      "source": [
        "\n",
        "\n",
        "*   Ask it to extract information and orgnize it in a table.\n",
        "\n"
      ],
      "metadata": {
        "id": "XncvvSxyl5ci"
      }
    },
    {
      "cell_type": "code",
      "source": [
        "prompt = f\"\"\"\n",
        "Your task is to help a marketing team to create a\n",
        "description for a retail website of a product based\n",
        "on a technical fact sheet.\n",
        "\n",
        "Write a product description based on the information\n",
        "provided in the technical specifications delimited by\n",
        "triple backticks.\n",
        "\n",
        "The description is intented for furniture retailers,\n",
        "so should be technical in nature and focus on the\n",
        "materials the product is constructed from.\n",
        "\n",
        "After the description, include a table that gives the\n",
        "product's dimensions. The table should have two columns.\n",
        "In the first column include the name of the dimension.\n",
        "In the second column include the measurements in inches only.\n",
        "\n",
        "Give the table the title 'Product Dimensions'.\n",
        "\n",
        "Format everything as HTML that can be used in a website.\n",
        "Place the description in a <div> element.\n",
        "\n",
        "Technical specifications: ```{fact_sheet_chair}```\n",
        "\"\"\"\n",
        "response = get_completion(prompt)\n",
        "print(response)"
      ],
      "metadata": {
        "colab": {
          "base_uri": "https://localhost:8080/"
        },
        "id": "tM3U7Ae0lvjC",
        "outputId": "0715083d-b0cd-465e-f915-3c693aed9091"
      },
      "execution_count": 21,
      "outputs": [
        {
          "output_type": "stream",
          "name": "stdout",
          "text": [
            "<div>\n",
            "  <p>The Mid-Century Office Chair is a beautiful addition to any home or business setting. Part of a family of mid-century inspired office furniture, this chair is available in several options of shell color and base finishes. Choose from plastic back and front upholstery or full upholstery in 10 fabric and 6 leather options. The base finish options are stainless steel, matte black, gloss white, or chrome. The chair is also available with or without armrests. </p>\n",
            "  <p>Constructed with a 5-wheel plastic coated aluminum base and a pneumatic chair adjust for easy raise/lower action, this chair is both durable and functional. It is qualified for contract use, making it a great choice for any office setting. </p>\n",
            "  <p>Customize your chair with soft or hard-floor caster options and two choices of seat foam densities: medium (1.8 lb/ft3) or high (2.8 lb/ft3). Choose between armless or 8 position PU armrests for added comfort.</p>\n",
            "  <p>Made in Italy, the Mid-Century Office Chair is a high-quality piece of furniture that is sure to impress.</p>\n",
            "</div>\n",
            "\n",
            "<table>\n",
            "  <caption>Product Dimensions</caption>\n",
            "  <tr>\n",
            "    <td>Width</td>\n",
            "    <td>20.87\"</td>\n",
            "  </tr>\n",
            "  <tr>\n",
            "    <td>Depth</td>\n",
            "    <td>20.08\"</td>\n",
            "  </tr>\n",
            "  <tr>\n",
            "    <td>Height</td>\n",
            "    <td>31.50\"</td>\n",
            "  </tr>\n",
            "  <tr>\n",
            "    <td>Seat Height</td>\n",
            "    <td>17.32\"</td>\n",
            "  </tr>\n",
            "  <tr>\n",
            "    <td>Seat Depth</td>\n",
            "    <td>16.14\"</td>\n",
            "  </tr>\n",
            "</table>\n"
          ]
        }
      ]
    },
    {
      "cell_type": "markdown",
      "source": [
        "##Load Python libraries to view HTML"
      ],
      "metadata": {
        "id": "jw7EpEVPnEUr"
      }
    },
    {
      "cell_type": "code",
      "source": [
        "from IPython.display import display, HTML"
      ],
      "metadata": {
        "id": "bTB0arVbm2G6"
      },
      "execution_count": 23,
      "outputs": []
    },
    {
      "cell_type": "code",
      "source": [
        "display(HTML(response))"
      ],
      "metadata": {
        "colab": {
          "base_uri": "https://localhost:8080/",
          "height": 276
        },
        "id": "YbOPqy3qnMZk",
        "outputId": "8922f6dd-7955-431a-b798-14b2166c3eb7"
      },
      "execution_count": 24,
      "outputs": [
        {
          "output_type": "display_data",
          "data": {
            "text/plain": [
              "<IPython.core.display.HTML object>"
            ],
            "text/html": [
              "<div>\n",
              "  <p>The Mid-Century Office Chair is a beautiful addition to any home or business setting. Part of a family of mid-century inspired office furniture, this chair is available in several options of shell color and base finishes. Choose from plastic back and front upholstery or full upholstery in 10 fabric and 6 leather options. The base finish options are stainless steel, matte black, gloss white, or chrome. The chair is also available with or without armrests. </p>\n",
              "  <p>Constructed with a 5-wheel plastic coated aluminum base and a pneumatic chair adjust for easy raise/lower action, this chair is both durable and functional. It is qualified for contract use, making it a great choice for any office setting. </p>\n",
              "  <p>Customize your chair with soft or hard-floor caster options and two choices of seat foam densities: medium (1.8 lb/ft3) or high (2.8 lb/ft3). Choose between armless or 8 position PU armrests for added comfort.</p>\n",
              "  <p>Made in Italy, the Mid-Century Office Chair is a high-quality piece of furniture that is sure to impress.</p>\n",
              "</div>\n",
              "\n",
              "<table>\n",
              "  <caption>Product Dimensions</caption>\n",
              "  <tr>\n",
              "    <td>Width</td>\n",
              "    <td>20.87\"</td>\n",
              "  </tr>\n",
              "  <tr>\n",
              "    <td>Depth</td>\n",
              "    <td>20.08\"</td>\n",
              "  </tr>\n",
              "  <tr>\n",
              "    <td>Height</td>\n",
              "    <td>31.50\"</td>\n",
              "  </tr>\n",
              "  <tr>\n",
              "    <td>Seat Height</td>\n",
              "    <td>17.32\"</td>\n",
              "  </tr>\n",
              "  <tr>\n",
              "    <td>Seat Depth</td>\n",
              "    <td>16.14\"</td>\n",
              "  </tr>\n",
              "</table>"
            ]
          },
          "metadata": {}
        }
      ]
    },
    {
      "cell_type": "code",
      "source": [],
      "metadata": {
        "id": "Iq4oddianQ2G"
      },
      "execution_count": null,
      "outputs": []
    }
  ]
}